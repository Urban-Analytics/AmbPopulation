{
 "cells": [
  {
   "cell_type": "code",
   "execution_count": null,
   "metadata": {},
   "outputs": [],
   "source": [
    "# Install the below dependencies\n",
    "import pandas as pd # dependency 1\n",
    "from statsmodels.tsa.seasonal import seasonal_decompose # dependency 2\n",
    "import matplotlib.pyplot as plt # dependency 3\n",
    "import matplotlib.dates as mdates # dependency 4\n",
    "from statsmodels.tsa.stattools import adfuller # dependency 5\n",
    "from pmdarima.arima.utils import ndiffs # dependency 6\n",
    "import seaborn as sns # dependency 7\n",
    "from statsmodels.graphics.tsaplots import plot_acf, plot_pacf # dependency 8\n",
    "\n",
    "# Ignore harmless warnings\n",
    "import warnings\n",
    "warnings.filterwarnings(\"ignore\")"
   ]
  },
  {
   "cell_type": "markdown",
   "metadata": {},
   "source": [
    "## Load the footfall dataset"
   ]
  },
  {
   "cell_type": "code",
   "execution_count": null,
   "metadata": {},
   "outputs": [],
   "source": [
    "# Enter input paths for footfall data\n",
    "path_footfall = 'C:/Users/medira/OneDrive - University of Leeds/Projects/AmbPop/AmbPopData/LCC_footfall_cleaned_2021.csv'\n",
    "\n",
    "# Enter output paths for the folder storing outputs\n",
    "dir_out = '../AmbPop_Outputs/'"
   ]
  },
  {
   "cell_type": "code",
   "execution_count": null,
   "metadata": {},
   "outputs": [],
   "source": [
    "# dependency 1\n",
    "# Load all footfall data to pandas DataFrame\n",
    "df_orig = pd.read_csv(path_footfall)\n",
    "\n",
    "df_orig.info()\n",
    "df_orig.head(3)"
   ]
  },
  {
   "cell_type": "markdown",
   "metadata": {},
   "source": [
    "## Ready the data for processing"
   ]
  },
  {
   "cell_type": "code",
   "execution_count": null,
   "metadata": {},
   "outputs": [],
   "source": [
    "# Set dataframe index to 'DateTime' column\n",
    "df_orig.set_index('DateTime', inplace=True)\n",
    "df_orig.index = pd.to_datetime(df_orig.index)\n",
    "\n",
    "df_orig.info()\n",
    "df_orig.head(3)"
   ]
  },
  {
   "cell_type": "code",
   "execution_count": null,
   "metadata": {},
   "outputs": [],
   "source": [
    "# Function to: create columns for TS EDA\n",
    "def set_cols(df):\n",
    "    df['Date'] = pd.to_datetime(df['Date'])\n",
    "    df['Year'] = df.Date.dt.year\n",
    "    df['Month'] = df.Date.dt.month\n",
    "    df['Hour'] = df.Date.dt.hour\n",
    "    df['YearMonth'] = df.Date.dt.to_period('M')\n",
    "    df['MonthDay'] = df.Date.dt.day\n",
    "    df['WeekDay'] = df.Date.dt.weekday\n",
    "    df['WeekDayName'] = df.Date.dt.day_name()\n",
    "    df['IsWeekend'] = df.WeekDay > 4\n",
    "    df['YearMonthDay'] = df['Year'].astype(str) + '-' + df['MonthDay'].astype(str)\n",
    "    df['YearWeekDay'] = df['Year'].astype(str) + '-' + df['WeekDay'].astype(str)\n",
    "    df['YearMonthWeekDay'] = df['YearMonth'].astype(str) + '-' + df['WeekDay'].astype(str)\n",
    "    df['LocationYear'] = df['Location'].astype(str) + '-' + df['Year'].astype(str)\n",
    "    df['LocationYearMonth'] = df['Location'].astype(str) + '-' + df['YearMonth'].astype(str)\n",
    "    df['NumRecords'] =  df.groupby('Location')['Location'].transform('count')\n",
    "    df['TotCountByLocationByYear'] = ( df.groupby(['Location', 'Year'])['Count'].transform('sum'))\n",
    "    df['TotCountByWeekDayByYear'] = ( df.groupby(['WeekDay', 'Year'])['Count'].transform('sum'))\n",
    "    df['TotCountByMonth'] = (df.groupby(['Month'])['Count'].transform('sum'))\n",
    "        \n",
    "    cols = ['Location', 'Count', 'LocationYear', 'LocationYearMonth', 'Date', 'Year', 'YearMonth', \n",
    "            'Month','YearMonthDay', 'MonthDay', 'YearWeekDay', 'WeekDay', 'YearMonthWeekDay',\n",
    "            'WeekDayName', 'IsWeekend', 'BRCWeekNum', 'BRCMonthNum', 'BRCMonth', 'BRCYear', \n",
    "            'NumRecords', 'TotCountByLocationByYear', 'TotCountByWeekDayByYear', 'TotCountByMonth']\n",
    "    return df[cols]"
   ]
  },
  {
   "cell_type": "code",
   "execution_count": null,
   "metadata": {},
   "outputs": [],
   "source": [
    "# Filter the dataframe via predefined set_cols function to create all columns for EDA\n",
    "df_all = set_cols(df_orig)\n",
    "\n",
    "df_all.info()\n",
    "df_all.head(3)"
   ]
  },
  {
   "cell_type": "code",
   "execution_count": null,
   "metadata": {},
   "outputs": [],
   "source": [
    "# Remove missing values\n",
    "df_all.dropna(inplace=True)\n",
    "\n",
    "df_all.info()\n",
    "df_all.head(3)"
   ]
  },
  {
   "cell_type": "code",
   "execution_count": null,
   "metadata": {},
   "outputs": [],
   "source": [
    "# Keep locations with only full set of footfall records\n",
    "df_all = df_all[df_all['NumRecords'] == 104904]\n",
    "\n",
    "df_all.info()\n",
    "df_all.head(3)"
   ]
  },
  {
   "cell_type": "code",
   "execution_count": null,
   "metadata": {},
   "outputs": [],
   "source": [
    "# Sort the index\n",
    "df_all.sort_index(inplace=True)\n",
    "\n",
    "df_all.info()\n",
    "df_all.head(3)"
   ]
  },
  {
   "cell_type": "code",
   "execution_count": null,
   "metadata": {},
   "outputs": [],
   "source": [
    "# Create from existing, a dataframe with precovid timeline\n",
    "df_precovid = df_all.loc[:pd.Timestamp('2020-01-01')]\n",
    "\n",
    "df_precovid.info()\n",
    "df_precovid.head(3)"
   ]
  },
  {
   "cell_type": "code",
   "execution_count": null,
   "metadata": {},
   "outputs": [],
   "source": [
    "# Create from existing, a dataframe with covid timeline\n",
    "df_covid = df_all.loc[pd.Timestamp('2020-01-01'):]\n",
    "\n",
    "df_covid.info()\n",
    "df_covid.head(3)"
   ]
  },
  {
   "cell_type": "code",
   "execution_count": null,
   "metadata": {},
   "outputs": [],
   "source": [
    "# Function to: create dictionary of the timeseries split by location with location as key\n",
    "def create_dict(df):\n",
    "    loc_list = df['Location'].unique()\n",
    "    dict = {loc : pd.DataFrame() for loc in loc_list}\n",
    "\n",
    "    for key in dict.keys():\n",
    "        dict[key] = df[:][df['Location'] == key]\n",
    "        dict[key][['Count']]\n",
    "    return dict"
   ]
  },
  {
   "cell_type": "code",
   "execution_count": null,
   "metadata": {},
   "outputs": [],
   "source": [
    "# Pick a random location for TSA\n",
    "loc_name = 'Headrow'"
   ]
  },
  {
   "cell_type": "code",
   "execution_count": null,
   "metadata": {},
   "outputs": [],
   "source": [
    "# Get timeseries of the location from each of the dictionaries"
   ]
  },
  {
   "cell_type": "code",
   "execution_count": null,
   "metadata": {},
   "outputs": [],
   "source": [
    "ts_loc = dict_all[loc_name]\n",
    "\n",
    "ts_loc.info()\n",
    "ts_loc.head(3)"
   ]
  },
  {
   "cell_type": "code",
   "execution_count": null,
   "metadata": {},
   "outputs": [],
   "source": [
    "ts_loc_covid = dict_covid[loc_name]\n",
    "\n",
    "ts_loc_covid.info()\n",
    "ts_loc_covid.head(3)"
   ]
  },
  {
   "cell_type": "code",
   "execution_count": null,
   "metadata": {},
   "outputs": [],
   "source": [
    "ts_loc_precovid = dict_precovid[loc_name]\n",
    "\n",
    "ts_loc_precovid.info()\n",
    "ts_loc_precovid.head(3)"
   ]
  },
  {
   "cell_type": "code",
   "execution_count": null,
   "metadata": {},
   "outputs": [],
   "source": [
    "# Create three dictionaries with the three timeseries (all, covid, precovid)\n",
    "dict_all = create_dict(df_all)\n",
    "dict_covid = create_dict(df_covid)\n",
    "dict_precovid = create_dict(df_precovid)"
   ]
  },
  {
   "cell_type": "markdown",
   "metadata": {},
   "source": [
    "## EDA/Visualisation"
   ]
  },
  {
   "cell_type": "code",
   "execution_count": null,
   "metadata": {},
   "outputs": [],
   "source": [
    "# Generate stats based on location\n",
    "df_all.groupby('Location').describe()"
   ]
  },
  {
   "cell_type": "code",
   "execution_count": null,
   "metadata": {},
   "outputs": [],
   "source": [
    "df_all[df_all.Count == df_all.Count.max()].iloc[0,0:2]"
   ]
  },
  {
   "cell_type": "code",
   "execution_count": null,
   "metadata": {},
   "outputs": [],
   "source": [
    "df_all[df_all.Count == df_all.Count.min()].iloc[:,0:2]"
   ]
  },
  {
   "cell_type": "code",
   "execution_count": null,
   "metadata": {},
   "outputs": [],
   "source": [
    "df_all[df_all.TotCountByLocationByYear == df_all.TotCountByLocationByYear.max()].iloc[0,0:2]"
   ]
  },
  {
   "cell_type": "code",
   "execution_count": null,
   "metadata": {},
   "outputs": [],
   "source": [
    "plt.rcParams[\"figure.figsize\"] = (15,10)\n",
    "fig = plt.figure()\n",
    "ax = fig.add_subplot()\n",
    "df_all_samp1 = df_all.drop_duplicates('LocationYear')\n",
    "for name,group in df_all_samp1.groupby(['Year']):\n",
    "    group.plot.line(ax=ax, x=\"Location\",y=\"TotCountByLocationByYear\", label= str(name))\n",
    "    ax.set_ylabel('Footfall Count By Year')\n",
    "    ax.set_xlabel('Location')\n",
    "    plt.title('Total Count by Location per Year', fontsize=15)\n",
    "    ax.tick_params(axis='x', rotation=45)\n",
    "\n",
    "plt.show()"
   ]
  },
  {
   "cell_type": "code",
   "execution_count": null,
   "metadata": {},
   "outputs": [],
   "source": [
    "df_all_samp2 = df_all.drop_duplicates('YearWeekDay')\n",
    "print(df_all_samp2.groupby(['WeekDay']).count())"
   ]
  },
  {
   "cell_type": "code",
   "execution_count": null,
   "metadata": {},
   "outputs": [],
   "source": [
    "df_all_samp2 = df_all_samp2[['WeekDayName', 'Year', 'TotCountByWeekDayByYear']]\n",
    "df_all_samp2 = df_all_samp2.pivot(index='WeekDayName', columns='Year')\n",
    "\n",
    "df_all_samp2.columns = df_all_samp2.columns.droplevel(0)\n",
    "df_all_samp2.info()\n",
    "df_all_samp2.head(3)"
   ]
  },
  {
   "cell_type": "code",
   "execution_count": null,
   "metadata": {},
   "outputs": [],
   "source": [
    "plt.rcParams[\"figure.figsize\"] = (15,10)\n",
    "fig = plt.figure()\n",
    "ax = fig.add_subplot()\n",
    "df_all_samp2.plot(ax=ax, kind='bar')\n",
    "ax.set_ylabel('all Count By Year')\n",
    "ax.set_xlabel('Week Day')\n",
    "plt.title('Total Count per Week Day per Year', fontsize=15)\n",
    "ax.tick_params(axis='x', rotation=45)\n",
    "\n",
    "plt.show()"
   ]
  },
  {
   "cell_type": "code",
   "execution_count": null,
   "metadata": {},
   "outputs": [],
   "source": [
    "df_all_samp4 = df_all.drop_duplicates('Month')\n",
    "df_all_samp4.groupby(['Month']).count().iloc[0,0:2]\n",
    "df_all_samp4 = df_all_samp4[['Month', 'TotCountByMonth']]\n",
    "\n",
    "df_all_samp4.info()\n",
    "df_all_samp4.head(12)"
   ]
  },
  {
   "cell_type": "markdown",
   "metadata": {},
   "source": [
    "## TSA"
   ]
  },
  {
   "cell_type": "code",
   "execution_count": null,
   "metadata": {},
   "outputs": [],
   "source": [
    "# Dependency 2\n",
    "# display seasonal decompose result of all the locations\n",
    "for key in dict_all.keys():\n",
    "    result = seasonal_decompose(dict_all[key]['Count'], period=1)\n",
    "    print('Location: ' + key)\n",
    "    fig = plt.figure()  \n",
    "    fig = result.plot()  \n",
    "    fig.set_size_inches(12, 9)\n",
    "    plt.show()"
   ]
  },
  {
   "cell_type": "code",
   "execution_count": null,
   "metadata": {},
   "outputs": [],
   "source": [
    "# Dependency 3\n",
    "# Dependency 4\n",
    "# nf\n",
    "# Function to: plot the timeseries and stats with adjustable datetime x axis, rolling stats sections \n",
    "def plot_df(ts, name, interval, sec, choice):\n",
    "    fig, ax = plt.subplots(figsize=(15,7))\n",
    "    ax.plot(ts.index, ts.Count, label='Original')\n",
    "    \n",
    "    if 'rolmean' in choice:\n",
    "        rolmean = ts['Count'].rolling(sec).mean()\n",
    "        ax.plot(rolmean, label='Rolling Mean')\n",
    "    if 'rolstd' in choice:\n",
    "        rolstd = ts['Count'].rolling(sec).std()\n",
    "        ax.plot(rolstd, label = 'Rolling Std')\n",
    "    if 'expmean' in choice:\n",
    "        expmean = ts['Count'].ewm(sec).mean()\n",
    "        ax.plot(expmean, label = 'Exp Mean')\n",
    "    \n",
    "    plt.title(name, fontsize=15)\n",
    "    plt.legend(loc='best')\n",
    "    ax.set_ylabel('Footfall Count')\n",
    "    ax.set_xlabel('DateTime')\n",
    "    ax.xaxis.set_major_locator(mdates.MonthLocator(interval=interval))\n",
    "    ax.xaxis.set_major_formatter(mdates.DateFormatter('%d-%m-%Y'))\n",
    "    plt.gcf().autofmt_xdate()\n",
    "    plt.show()\n",
    "    "
   ]
  },
  {
   "cell_type": "code",
   "execution_count": null,
   "metadata": {},
   "outputs": [],
   "source": [
    "# nf\n",
    "# Dependency 5\n",
    "# Display the Dickey-Fuller test for stationarity of the timeseries\n",
    "def test_stationarity(ts):\n",
    "    print('Results of Dickey-Fuller Test:')\n",
    "    dftest = adfuller(ts['Count'])\n",
    "    dfoutput = pd.Series(dftest[0:4], index=['Test Statistic','p-value','#Lags Used','Number of Observations Used'])\n",
    "    for key,value in dftest[4].items():\n",
    "        dfoutput['Critical Value (%s)'%key] = value\n",
    "    print(dfoutput)"
   ]
  },
  {
   "cell_type": "code",
   "execution_count": null,
   "metadata": {},
   "outputs": [],
   "source": [
    "# nf\n",
    "# Plot the timeseries of the selected location\n",
    "plot_df(ts_loc, loc_name, 12, 12, ['rolmean', 'rolstd', 'expmean'])"
   ]
  },
  {
   "cell_type": "code",
   "execution_count": null,
   "metadata": {},
   "outputs": [],
   "source": [
    "# Test the stationarity of the timeseries\n",
    "test_stationarity(ts_loc)"
   ]
  },
  {
   "cell_type": "code",
   "execution_count": null,
   "metadata": {},
   "outputs": [],
   "source": [
    "# Dependency 6\n",
    "# nf\n",
    "# Adf test\n",
    "#ndiffs(ts_loc, test='adf')  #0\n",
    "\n",
    "# KPSS test\n",
    "#ndiffs(ts_loc, test='kpss')  #1\n",
    "\n",
    "# PP test:\n",
    "#ndiffs(ts_loc, test='pp') #0"
   ]
  },
  {
   "cell_type": "code",
   "execution_count": null,
   "metadata": {},
   "outputs": [],
   "source": [
    "# Dependency 7\n",
    "# nf\n",
    "# Display the trend and seasonality via boxplot\n",
    "fig, axes = plt.subplots(1, 2, figsize=(15,7))\n",
    "sns.boxplot(x='Year', y='Count', data=ts_loc, ax=axes[0])\n",
    "sns.boxplot(x='Month', y='Count', data=ts_loc, ax=axes[1])\n",
    "\n",
    "axes[0].set_title(loc_name + ' Year-wise Box Plot - (The Trend) '); \n",
    "axes[1].set_title(loc_name + ' Month-wise Box Plot - (The Seasonality) ')\n",
    "plt.show()"
   ]
  },
  {
   "cell_type": "code",
   "execution_count": null,
   "metadata": {},
   "outputs": [],
   "source": [
    "# Dependency 8\n",
    "# nf\n",
    "\n",
    "# Original timeseries\n",
    "fig, axes = plt.subplots(3, 3)\n",
    "axes[0, 0].plot(ts_loc); axes[0, 0].set_title('Original Series')\n",
    "plot_acf(ts_loc, ax=axes[0, 1], lags=20)\n",
    "plot_pacf(ts_loc, ax=axes[0, 2], lags=20)\n",
    "\n",
    "# 1st differencing\n",
    "axes[1, 0].plot(ts_loc.diff()); axes[1, 0].set_title('1st Order Differencing')\n",
    "plot_acf(ts_loc.diff().dropna(), ax=axes[1, 1], lags=20)\n",
    "plot_pacf(ts_loc.diff().dropna(), ax=axes[1, 2], lags=20)\n",
    "\n",
    "\n",
    "# 2nd differencing\n",
    "axes[2, 0].plot(ts_loc.diff().diff()); axes[2, 0].set_title('2nd Order Differencing')\n",
    "plot_acf(ts_loc.diff().diff().dropna(), ax=axes[2, 1], lags=20)\n",
    "plot_pacf(ts_loc.diff().diff().dropna(), ax=axes[2, 2], lags=20)\n",
    "\n",
    "plt.show()"
   ]
  },
  {
   "cell_type": "code",
   "execution_count": null,
   "metadata": {},
   "outputs": [],
   "source": []
  }
 ],
 "metadata": {
  "kernelspec": {
   "display_name": "Python [conda env:ambpop]",
   "language": "python",
   "name": "conda-env-ambpop-py"
  },
  "language_info": {
   "codemirror_mode": {
    "name": "ipython",
    "version": 3
   },
   "file_extension": ".py",
   "mimetype": "text/x-python",
   "name": "python",
   "nbconvert_exporter": "python",
   "pygments_lexer": "ipython3",
   "version": "3.10.4"
  }
 },
 "nbformat": 4,
 "nbformat_minor": 2
}
